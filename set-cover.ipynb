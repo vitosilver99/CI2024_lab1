{
 "cells": [
  {
   "cell_type": "markdown",
   "metadata": {},
   "source": [
    "Copyright **`(c)`** 2024 Giovanni Squillero `<giovanni.squillero@polito.it>`  \n",
    "[`https://github.com/squillero/computational-intelligence`](https://github.com/squillero/computational-intelligence)  \n",
    "Free for personal or classroom use; see [`LICENSE.md`](https://github.com/squillero/computational-intelligence/blob/master/LICENSE.md) for details.  "
   ]
  },
  {
   "cell_type": "markdown",
   "metadata": {},
   "source": [
    "# Set Cover problem\n",
    "\n",
    "See: https://en.wikipedia.org/wiki/Set_cover_problem"
   ]
  },
  {
   "cell_type": "code",
   "execution_count": 52,
   "metadata": {},
   "outputs": [],
   "source": [
    "from itertools import accumulate\n",
    "from random import random, seed\n",
    "from itertools import product\n",
    "import numpy as np\n",
    "from matplotlib import pyplot as plt\n",
    "from tqdm.auto import tqdm\n",
    "from collections import deque\n",
    "from icecream import ic"
   ]
  },
  {
   "cell_type": "markdown",
   "metadata": {},
   "source": [
    "## Reproducible Initialization\n",
    "\n",
    "If you want to get reproducible results, use `rng` (and restart the kernel); for non-reproducible ones, use `np.random`."
   ]
  },
  {
   "cell_type": "code",
   "execution_count": 53,
   "metadata": {},
   "outputs": [],
   "source": [
    "UNIVERSE_SIZE = 100_000          ##Total number of element that must be covered\n",
    "NUM_SETS = 10_000                ##Number of subset free to cover the universe\n",
    "DENSITY = 0.1                    ##Probability of an element being in a set. With a density of 0.2, 20% of the universe will be in a set\n",
    "\n",
    "rng = np.random.Generator(np.random.PCG64([UNIVERSE_SIZE, NUM_SETS, int(10_000 * DENSITY)]))"
   ]
  },
  {
   "cell_type": "code",
   "execution_count": 54,
   "metadata": {},
   "outputs": [],
   "source": [
    "# DON'T EDIT THESE LINES!\n",
    "\n",
    "SETS = np.random.random((NUM_SETS, UNIVERSE_SIZE)) < DENSITY ##If SETS[i, j] == True, then j is in set i, false otherwise\n",
    "for s in range(UNIVERSE_SIZE):                               ##For evry element in the universe, check if it is in any set\n",
    "    if not np.any(SETS[:, s]):                               ##If not, put it in a random set\n",
    "        SETS[np.random.randint(NUM_SETS), s] = True\n",
    "COSTS = np.pow(SETS.sum(axis=1), 1.1)                        ##Cost of each set\n"
   ]
  },
  {
   "cell_type": "markdown",
   "metadata": {},
   "source": [
    "## Helper Functions"
   ]
  },
  {
   "cell_type": "code",
   "execution_count": 55,
   "metadata": {},
   "outputs": [],
   "source": [
    "def valid(solution):\n",
    "    \"\"\"Checks wether solution is valid (ie. covers all universe)\"\"\"\n",
    "    return np.all(np.logical_or.reduce(SETS[solution]))\n",
    "\n",
    "\n",
    "def cost(solution):\n",
    "    \"\"\"Returns the cost of a solution (to be minimized)\"\"\"\n",
    "    return COSTS[solution].sum()"
   ]
  },
  {
   "cell_type": "markdown",
   "metadata": {},
   "source": [
    "## HILL CLIMBERS"
   ]
  },
  {
   "cell_type": "code",
   "execution_count": 56,
   "metadata": {},
   "outputs": [],
   "source": [
    "MAX_TWEAKS = 3\n",
    "NUM_RESTARTS = 1\n",
    "MAX_ATTEMPTS = 30\n",
    "\n",
    "all_solution_hashes = set()"
   ]
  },
  {
   "cell_type": "code",
   "execution_count": 57,
   "metadata": {},
   "outputs": [],
   "source": [
    "##First inititialization of the fitness, used for every restart if the algorithm\n",
    "def fitness_initialization(solution):\n",
    "    return (valid(solution), -cost(solution))\n",
    "\n",
    "##The invalid solution return a waighted cost, in order to prefer valid solutions\n",
    "def fitness(solution, best_so_far):\n",
    "    if valid(solution):\n",
    "        return (True, -cost(solution))\n",
    "    else:\n",
    "        return (False, best_so_far*1.5) "
   ]
  },
  {
   "cell_type": "code",
   "execution_count": 58,
   "metadata": {},
   "outputs": [],
   "source": [
    "def single_tweak(solution: np.ndarray) -> np.ndarray:\n",
    "    new_solution = solution.copy()\n",
    "    i = rng.integers(0, NUM_SETS)\n",
    "    new_solution[i] = not new_solution[i]\n",
    "    return new_solution\n",
    "\n",
    "\n",
    "def multiple_tweaks(solution: np.ndarray) -> np.ndarray:\n",
    "    new_solution = solution.copy()\n",
    "    for _ in range(rng.integers(1, MAX_TWEAKS)):\n",
    "        i = rng.integers(0, NUM_SETS)\n",
    "        new_solution[i] = not new_solution[i]\n",
    "    return new_solution\n",
    "\n",
    "##Try to avoid using the same solution of the past tweaks\n",
    "def tabu_or_multiple_tweak(solution: np.ndarray) -> np.ndarray:\n",
    "    attempts = 0\n",
    "    new_solution = solution.copy()\n",
    "\n",
    "    while attempts < MAX_ATTEMPTS:\n",
    "        mask = rng.random(NUM_SETS) < 0.02\n",
    "        new_solution = np.logical_xor(solution, mask)\n",
    "            \n",
    "        # Calculate the hash of the new solution \n",
    "        sol_hash = hash(new_solution.tobytes())\n",
    "        # Check if the hash is already in the set of solutions\n",
    "        if sol_hash not in all_solution_hashes:\n",
    "            all_solution_hashes.add(sol_hash)  \n",
    "            return new_solution\n",
    "        \n",
    "        attempts += 1\n",
    "\n",
    "    #If exit from loop after max_attempts, return the random solution. (No change)\n",
    "    mask = rng.random(NUM_SETS) < 0.5\n",
    "    new_solution = np.logical_xor(solution, mask)\n",
    "        \n",
    "    return new_solution\n",
    "\n"
   ]
  },
  {
   "cell_type": "code",
   "execution_count": null,
   "metadata": {},
   "outputs": [],
   "source": [
    "##Hill climbing with restart\n",
    "tweak = tabu_or_multiple_tweak\n",
    "history = list()\n",
    "\n",
    "for r in tqdm(range(NUM_RESTARTS), position = 0):\n",
    "    #Evry restart of the algorithm, a new solution is generated\n",
    "    solution = rng.random(NUM_SETS) <  np.random.uniform(0.2, 1.0)\n",
    "    \n",
    "    solution_fitness = fitness_initialization(solution)\n",
    "    history.append(solution_fitness[1])\n",
    "    all_solution_hashes.clear()\n",
    "\n",
    "    ic(solution_fitness)\n",
    "\n",
    "    for steps in tqdm(range(10_000), position= 1):\n",
    "        new_solution = tweak(solution)\n",
    "        fit = fitness(new_solution, solution_fitness[1])\n",
    "        history.append(fit[1])\n",
    "                                      #In this way i avoid the zero solution that it's not valid  \n",
    "        if fit > solution_fitness and solution_fitness[1] < 0:\n",
    "            solution = new_solution\n",
    "            solution_fitness = fit\n",
    "            \n",
    "\n",
    "    ic(r, solution_fitness)\n",
    "\n",
    "\n",
    "plt.figure(figsize=(14, 8))\n",
    "plt.plot(\n",
    "    range(len(history)),\n",
    "    list(accumulate(history, max)),\n",
    "    color=\"red\",\n",
    ")\n",
    "_ = plt.scatter(range(len(history)), history, marker=\".\")\n",
    "\n",
    "\n",
    "\n",
    "    \n"
   ]
  }
 ],
 "metadata": {
  "kernelspec": {
   "display_name": "exe",
   "language": "python",
   "name": "python3"
  },
  "language_info": {
   "codemirror_mode": {
    "name": "ipython",
    "version": 3
   },
   "file_extension": ".py",
   "mimetype": "text/x-python",
   "name": "python",
   "nbconvert_exporter": "python",
   "pygments_lexer": "ipython3",
   "version": "3.12.2"
  }
 },
 "nbformat": 4,
 "nbformat_minor": 4
}
